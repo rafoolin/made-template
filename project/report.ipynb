{
 "cells": [
  {
   "cell_type": "markdown",
   "id": "f6c6aaaf-b319-415b-aa98-09d359811b6a",
   "metadata": {},
   "source": [
    "# Report - Association between newly registered cars and Greenhouse gas$^1$ emissions in the European Union\n",
    "\n",
    "**Niloo**\n",
    "<br/>\n",
    "**12.01.2024**\n",
    "\n",
    "---"
   ]
  },
  {
   "cell_type": "markdown",
   "id": "dded77a9-c72a-4f16-aaf2-8be4ba4cde15",
   "metadata": {},
   "source": [
    "# Table of contents"
   ]
  },
  {
   "cell_type": "markdown",
   "id": "956940dd-2a51-4ee3-ba36-34e120e15732",
   "metadata": {},
   "source": [
    "* [List of Acronyms](#List-of-acronyms)\n",
    "* [Introduction](#Introduction)\n",
    "* * [Environmental impacts of transport](#Environmental-impacts-of-transport)\n",
    "  * [Main Question](#Main-Question)"
   ]
  },
  {
   "cell_type": "markdown",
   "id": "aa695d39-a8ec-42b6-806a-40c6dff7bfc3",
   "metadata": {},
   "source": [
    "---"
   ]
  },
  {
   "cell_type": "markdown",
   "id": "60913239-1044-4686-ba62-ec8e8a464083",
   "metadata": {},
   "source": [
    "# List of acronyms"
   ]
  },
  {
   "cell_type": "markdown",
   "id": "4af8b001-fb72-4024-89ea-2ce76cb116da",
   "metadata": {},
   "source": [
    "|        |                                                       |\n",
    "|--------|-------------------------------------------------------|\n",
    "| $CO_2$ | Carbon dioxide                                        |\n",
    "| EU     | European Union                                        |\n",
    "| GHG    | Greenhouse Gas                                        |\n",
    "| WLTP   | Worldwide harmonized Light vehicles Test Procedures   |\n",
    "| DALYs  | Disability-Adjusted Life Years                        |\n",
    "| NEDC   | New European Driving Cycle                            |\n",
    "| UNECE  | United Nations Economic Commission for Europe         |\n",
    "| ITF    | International Transport Forum                         |\n",
    "| OECD   | Organization for Economic Cooperation and Development |\n",
    "| CSV    | Comma-separated values                                |\n",
    "| GZ     | GNU zip                                               |\n",
    "| URL    | Uniform Resource Locator                              |\n",
    "| GEO    | Geodetic Earth Orbiting                               |\n",
    "|        |                                                       |"
   ]
  },
  {
   "cell_type": "markdown",
   "id": "ed42ce77-ede1-4860-94dc-bc15bcf1bd72",
   "metadata": {},
   "source": [
    "---"
   ]
  },
  {
   "cell_type": "markdown",
   "id": "9880793d-a3ac-441c-a7dc-af11113e4fa7",
   "metadata": {},
   "source": [
    "# Introduction"
   ]
  },
  {
   "cell_type": "markdown",
   "id": "1a88f610-a382-49c3-821f-50ad67b08201",
   "metadata": {},
   "source": [
    "Greenhouse gas emissions from transport account for 25% of the total EU greenhouse gas emissions. In order to achieve climate neutrality by 2050, as specified in the European Green Deal, there is a target to reduce greenhouse gas emissions from the transport sector by 90%. $^2$\n",
    "\n",
    "\n",
    "## Environmental impacts of transport\n",
    "\n",
    "In 2019, $CO_2$ emissions accounted for 98.8% of the exhaust GHG emissions from transport. $^3$\n",
    "\n",
    "In the current era of globalization, a clean environment remains a crucial factor for the health of the population. Thus, improving air quality is a major focus of environmental policies, as it affects all aspects of nature, including humans. For these reasons, it is appropriate to take into account the health risks posed by greenhouse gas (GHG) emissions released into the atmosphere. With regard to global GHG emissions, there are concerns about the loss of protection of the ozone layer and it is very likely that climate change can be expected, which multiplies the environmental threat and has potentially serious global consequences.  $CO_2$ emissions have a dominant position among selected GHG emissions. The revealed positive link between $CO_2$ and DALYs indicated that a decrease in $CO_2$ may be associated with a decrease in DALYs, but it is also true that this cannot be done without reducing emissions of other combustion products. $^4$\n",
    "\n",
    "In this report, the primary objective is to explore the correlation between automobile choices and $CO_2$ emissions. We try to investigate how selecting one type of car over another can influence $CO_2$ emissions, thereby affecting various aspects of life. We want to understand how people's choices of car fuel affect the amount of $CO_2$ emissions.\n",
    "\n",
    "\n",
    "## Main Question\n",
    "\n",
    "Is there any correlation between newly registered cars and Greenhouse gas emissions in the Europe? Is the type of car engine a significant factor contributing to climate change? What other vehicle features play a crucial role in influencing it?"
   ]
  },
  {
   "cell_type": "markdown",
   "id": "4ea2bdee-c82e-41e8-872e-3041099ecf8d",
   "metadata": {},
   "source": [
    "---"
   ]
  },
  {
   "cell_type": "markdown",
   "id": "fd1808a8-a442-4317-991f-646ce5c14337",
   "metadata": {},
   "source": [
    "# Method"
   ]
  },
  {
   "cell_type": "markdown",
   "id": "68c3722f-97b2-44cc-9423-dfee83a54d7f",
   "metadata": {},
   "source": [
    "## Datasources"
   ]
  },
  {
   "cell_type": "markdown",
   "id": "c741e259-3c06-4308-8052-5c721fc5190f",
   "metadata": {},
   "source": [
    "For this report, two main datasources are used."
   ]
  },
  {
   "cell_type": "markdown",
   "id": "b78a4b05-9a80-45da-b2a5-bdaad671f79f",
   "metadata": {},
   "source": [
    "### Main datasources"
   ]
  },
  {
   "cell_type": "markdown",
   "id": "c341a9af-e9de-43a2-929f-212b9d235139",
   "metadata": {},
   "source": [
    "#### Datasource1:  Europa(Average $CO_2$ emissions per km from new passenger cars)"
   ]
  },
  {
   "cell_type": "markdown",
   "id": "786a1b36-b17d-41fe-be52-a1e71c95c845",
   "metadata": {},
   "source": [
    "* Metadata URL: <https://ec.europa.eu/eurostat/cache/metadata/en/sdg_12_30_esmsip2.htm>\n",
    "* Data URL: <https://ec.europa.eu/eurostat/api/dissemination/sdmx/2.1/data/sdg_12_30/?format=SDMX-CSV&compressed=true>\n",
    "* Data Type: CSV\n",
    "\n",
    "The indicator is defined as the average carbon dioxide ($CO_2$) emissions per km by new passenger cars in a given year. The reported emissions are based on type-approval and can deviate from the actual $CO_2$ emissions of new cars. Since 2021, the emissions are measured with a new test procedure (Worldwide harmonized Light vehicles Test Procedure WLTP), compared to the New European Driving Cycle (NEDC) procedure used until 2020. The WLTP aims to reflect better real driving conditions and WLTP values are systematically higher than NEDC values. This change leads to a break in time series between 2020 and 2021.\n"
   ]
  },
  {
   "cell_type": "markdown",
   "id": "66656de5-8c0c-4c34-bb22-9b4cc53046fd",
   "metadata": {},
   "source": [
    "#### Datasource2:  Europa(New passenger cars by type of motor energy)"
   ]
  },
  {
   "cell_type": "markdown",
   "id": "5eab3721-57ad-4909-b90d-f50cc974856e",
   "metadata": {},
   "source": [
    "* Metadata URL: <https://ec.europa.eu/eurostat/cache/metadata/en/rail_if_esms.htm>\n",
    "* Data URL: <https://ec.europa.eu/eurostat/api/dissemination/sdmx/2.1/data/road_eqr_carpda/?format=SDMX-CSV&compressed=true>\n",
    "* Data Type: CSV\n",
    "\n",
    "The data in this dataset comes from the Common Questionnaire for Transport Statistics, developed and surveyed by Eurostat in cooperation between the United Nations Economic Commission for Europe (UNECE) and the International Transport Forum (ITF) at OECD."
   ]
  },
  {
   "cell_type": "markdown",
   "id": "3bccdc9d-83e5-471d-b95c-f08da0ad093d",
   "metadata": {},
   "source": [
    "### Side data sources"
   ]
  },
  {
   "cell_type": "markdown",
   "id": "69a0ae87-c383-410d-835e-d0ed64b99891",
   "metadata": {},
   "source": [
    "There are side data sources essential for understanding the information in the primary data sources. These sources typically provide mappings of abbreviations to their corresponding meanings in the main data sources."
   ]
  },
  {
   "cell_type": "markdown",
   "id": "a0539e8d-787c-4e3e-bbd3-72e8e0010307",
   "metadata": {},
   "source": [
    "#### Datasource1: Europa(GEO)\n",
    "* GEO Code list URL: <https://ec.europa.eu/eurostat/api/dissemination/sdmx/2.1/codelist/ESTAT/GEO/?compressed=true&format=TSV&lang=en>\n",
    "* Data Type: TSV\n",
    "\n",
    "#### Datasource2: Europa(UNIT)\n",
    "\n",
    "* Unit Abbr URL: <https://ec.europa.eu/eurostat/api/dissemination/sdmx/2.1/codelist/ESTAT/UNIT/?compressed=true&format=TSV&lang=en>\n",
    "* Data Type: TSV\n",
    "\n",
    "#### Datasource3: Europa(Motor Energy)\n",
    "\n",
    "* Motor energy Abbr URL: <https://ec.europa.eu/eurostat/api/dissemination/sdmx/2.1/codelist/ESTAT/MOT_NRG/?compressed=true&format=TSV&lang=en>\n",
    "* Data Type: TSV\n"
   ]
  },
  {
   "cell_type": "markdown",
   "id": "65e98bf9-3813-48ec-ac09-af00ac544816",
   "metadata": {},
   "source": [
    "## Preparation"
   ]
  },
  {
   "cell_type": "markdown",
   "id": "f5a5b1af-ec81-4fb5-8a50-ae837833b34d",
   "metadata": {},
   "source": [
    "### Install Dependencies"
   ]
  },
  {
   "cell_type": "code",
   "execution_count": null,
   "id": "5a4ed838-1371-4703-bb29-a86c270d5450",
   "metadata": {},
   "outputs": [
    {
     "name": "stdout",
     "output_type": "stream",
     "text": [
      "Requirement already satisfied: numpy==1.26.2 in /usr/local/Cellar/jupyterlab/4.0.9_2/libexec/lib/python3.12/site-packages (1.26.2)\n",
      "Note: you may need to restart the kernel to use updated packages.\n",
      "Requirement already satisfied: SQLAlchemy==1.4.46 in /usr/local/Cellar/jupyterlab/4.0.9_2/libexec/lib/python3.12/site-packages (1.4.46)\n",
      "Requirement already satisfied: greenlet!=0.4.17 in /usr/local/Cellar/jupyterlab/4.0.9_2/libexec/lib/python3.12/site-packages (from SQLAlchemy==1.4.46) (3.0.3)\n",
      "Note: you may need to restart the kernel to use updated packages.\n",
      "Requirement already satisfied: requests==2.31.0 in /usr/local/opt/python-requests/lib/python3.12/site-packages (2.31.0)\n",
      "Requirement already satisfied: charset-normalizer<4,>=2 in /usr/local/opt/python-charset-normalizer/lib/python3.12/site-packages (from requests==2.31.0) (3.3.2)\n",
      "Requirement already satisfied: idna<4,>=2.5 in /usr/local/opt/python-idna/lib/python3.12/site-packages (from requests==2.31.0) (3.6)\n",
      "Requirement already satisfied: urllib3<3,>=1.21.1 in /usr/local/opt/python-urllib3/lib/python3.12/site-packages (from requests==2.31.0) (2.1.0)\n",
      "Requirement already satisfied: certifi>=2017.4.17 in /usr/local/opt/python-certifi/lib/python3.12/site-packages (from requests==2.31.0) (2023.11.17)\n",
      "Note: you may need to restart the kernel to use updated packages.\n",
      "Requirement already satisfied: pandas==1.5.3 in /usr/local/Cellar/jupyterlab/4.0.9_2/libexec/lib/python3.12/site-packages (1.5.3)\n",
      "Requirement already satisfied: python-dateutil>=2.8.1 in /usr/local/opt/python-dateutil/lib/python3.12/site-packages (from pandas==1.5.3) (2.8.2)\n",
      "Requirement already satisfied: pytz>=2020.1 in /usr/local/Cellar/jupyterlab/4.0.9_2/libexec/lib/python3.12/site-packages (from pandas==1.5.3) (2023.3.post1)\n",
      "Requirement already satisfied: numpy>=1.21.0 in /usr/local/Cellar/jupyterlab/4.0.9_2/libexec/lib/python3.12/site-packages (from pandas==1.5.3) (1.26.2)\n",
      "Requirement already satisfied: six>=1.5 in /usr/local/opt/six/lib/python3.12/site-packages (from python-dateutil>=2.8.1->pandas==1.5.3) (1.16.0)\n",
      "Note: you may need to restart the kernel to use updated packages.\n",
      "Requirement already satisfied: matplotlib==3.8.2 in /usr/local/Cellar/jupyterlab/4.0.9_2/libexec/lib/python3.12/site-packages (3.8.2)\n",
      "Requirement already satisfied: contourpy>=1.0.1 in /usr/local/Cellar/jupyterlab/4.0.9_2/libexec/lib/python3.12/site-packages (from matplotlib==3.8.2) (1.2.0)\n",
      "Requirement already satisfied: cycler>=0.10 in /usr/local/Cellar/jupyterlab/4.0.9_2/libexec/lib/python3.12/site-packages (from matplotlib==3.8.2) (0.12.1)\n",
      "Requirement already satisfied: fonttools>=4.22.0 in /usr/local/Cellar/jupyterlab/4.0.9_2/libexec/lib/python3.12/site-packages (from matplotlib==3.8.2) (4.47.0)\n",
      "Requirement already satisfied: kiwisolver>=1.3.1 in /usr/local/Cellar/jupyterlab/4.0.9_2/libexec/lib/python3.12/site-packages (from matplotlib==3.8.2) (1.4.5)\n",
      "Requirement already satisfied: numpy<2,>=1.21 in /usr/local/Cellar/jupyterlab/4.0.9_2/libexec/lib/python3.12/site-packages (from matplotlib==3.8.2) (1.26.2)\n",
      "Requirement already satisfied: packaging>=20.0 in /usr/local/opt/python-packaging/lib/python3.12/site-packages (from matplotlib==3.8.2) (23.2)\n",
      "Requirement already satisfied: pillow>=8 in /usr/local/Cellar/jupyterlab/4.0.9_2/libexec/lib/python3.12/site-packages (from matplotlib==3.8.2) (10.1.0)\n",
      "Requirement already satisfied: pyparsing>=2.3.1 in /usr/local/Cellar/jupyterlab/4.0.9_2/libexec/lib/python3.12/site-packages (from matplotlib==3.8.2) (3.1.1)\n",
      "Requirement already satisfied: python-dateutil>=2.7 in /usr/local/opt/python-dateutil/lib/python3.12/site-packages (from matplotlib==3.8.2) (2.8.2)\n",
      "Requirement already satisfied: six>=1.5 in /usr/local/opt/six/lib/python3.12/site-packages (from python-dateutil>=2.7->matplotlib==3.8.2) (1.16.0)\n"
     ]
    }
   ],
   "source": [
    "%pip install 'numpy==1.26.2'\n",
    "%pip install 'SQLAlchemy==1.4.46'\n",
    "%pip install 'requests==2.31.0'\n",
    "%pip install 'pandas==1.5.3'\n",
    "%pip install 'matplotlib==3.8.2'\n",
    "%pip install 'seaborn==0.13.1'"
   ]
  },
  {
   "cell_type": "markdown",
   "id": "8fa03782-afaf-4e67-867e-6b481bc0ec09",
   "metadata": {},
   "source": [
    "## Load data sources"
   ]
  },
  {
   "cell_type": "markdown",
   "id": "e1cbd24e-b59a-40ae-9f13-d771751effe3",
   "metadata": {},
   "source": [
    "### GEO code list"
   ]
  },
  {
   "cell_type": "markdown",
   "id": "024f7875-bc2e-4127-a6c9-75975b903b51",
   "metadata": {},
   "source": [
    "#### Extract"
   ]
  },
  {
   "cell_type": "markdown",
   "id": "d5297338-aa59-4638-895b-e7ae0a8df69b",
   "metadata": {},
   "source": [
    "Downloading the codes/mappers list for GEO locations is necessary to substitute the abbreviations in the primary data sources while plotting the data."
   ]
  },
  {
   "cell_type": "code",
   "execution_count": null,
   "id": "2f50dbda-16d7-4270-8ed3-d12a99b59485",
   "metadata": {},
   "outputs": [],
   "source": [
    "import gzip\n",
    "import os\n",
    "import shutil\n",
    "import requests\n",
    "\n",
    "url = 'https://ec.europa.eu/eurostat/api/dissemination/sdmx/2.1/codelist/ESTAT/GEO/?compressed=true&format=TSV&lang=en'\n",
    "# File names and locations to save the downloaded and extracted data source\n",
    "geo_file_name = 'geo'\n",
    "print(f'Start downloading {geo_file_name} ...')\n",
    "output_gzip = f\"../data/{geo_file_name}.gz\"\n",
    "geo_output_data_file = f\"../data/{geo_file_name}.tsv\"\n",
    "if not os.path.exists('../data'):\n",
    "    os.mkdir('../data')\n",
    "\n",
    "# Download by the URL\n",
    "response = requests.get(url, stream=True)\n",
    "with open(output_gzip, \"wb\") as file:\n",
    "    for chunk in response.iter_content(chunk_size=1024):\n",
    "        if chunk:\n",
    "            file.write(chunk)\n",
    "print(f'Downloaded {geo_file_name}!')\n",
    "print(f'Start extracting {geo_file_name} ...')\n",
    "# Extract and save the data source in [data] folder\n",
    "with gzip.open(output_gzip, \"rb\") as f_in:\n",
    "    with open(geo_output_data_file, \"wb\") as f_out:\n",
    "        shutil.copyfileobj(f_in, f_out)\n",
    "# Remove the GZ file\n",
    "os.remove(output_gzip)\n",
    "print(f'Extracted {geo_file_name}!')\n",
    "geo_output_data_file"
   ]
  },
  {
   "cell_type": "markdown",
   "id": "7550377c-7494-4254-900c-ea86dd387021",
   "metadata": {},
   "source": [
    "#### Transform"
   ]
  },
  {
   "cell_type": "markdown",
   "id": "5b25b8e5-608d-461a-abcf-2d00f661aee9",
   "metadata": {},
   "source": [
    "Upon executing the code in the preceding cell, a file named `geo.tsv` will be downloaded and stored in the `../data` directory. The data source contains the following contents:"
   ]
  },
  {
   "cell_type": "code",
   "execution_count": null,
   "id": "c2546464-154e-4a97-ab46-eac0cb261415",
   "metadata": {},
   "outputs": [],
   "source": [
    "import pandas as pd\n",
    "# Read TSV file with desired column names\n",
    "geo_data_frame = pd.read_csv(geo_output_data_file, sep=\"\\t\", header=0, names=['abbr', 'geo_full_name'])\n",
    "geo_data_frame.head()"
   ]
  },
  {
   "cell_type": "markdown",
   "id": "4ecc0822-c819-41e0-a436-fc0957bcc8af",
   "metadata": {},
   "source": [
    "### Motor energy code list"
   ]
  },
  {
   "cell_type": "markdown",
   "id": "c186fd13-a322-463a-b159-2029dd434715",
   "metadata": {},
   "source": [
    "#### Extract"
   ]
  },
  {
   "cell_type": "markdown",
   "id": "fbb65bde-e22c-4310-b5f2-b2a33f393f82",
   "metadata": {},
   "source": [
    "Downloading the codes/mappers list for motor engines energy is necessary to substitute the abbreviations in the primary data sources while plotting the data."
   ]
  },
  {
   "cell_type": "code",
   "execution_count": null,
   "id": "d5ecd836-7f5a-4e5a-b099-227ffc03534b",
   "metadata": {},
   "outputs": [],
   "source": [
    "import gzip\n",
    "import os\n",
    "import shutil\n",
    "import requests\n",
    "\n",
    "url = 'https://ec.europa.eu/eurostat/api/dissemination/sdmx/2.1/codelist/ESTAT/MOT_NRG/?compressed=True&format=TSV&lang=en'\n",
    "motor_engin_file_name = 'motor_engin'\n",
    "print(f'Start downloading {motor_engin_file_name} ...')\n",
    "output_gzip = f\"../data/{motor_engin_file_name}.gz\"\n",
    "motor_engin_output_data_file = f\"../data/{motor_engin_file_name}.tsv\"\n",
    "\n",
    "if not os.path.exists('../data'):\n",
    "    os.mkdir('../data')\n",
    "\n",
    "response = requests.get(url, stream=True)\n",
    "with open(output_gzip, \"wb\") as file:\n",
    "    for chunk in response.iter_content(chunk_size=1024):\n",
    "        if chunk:\n",
    "            file.write(chunk)\n",
    "print(f'Downloaded {motor_engin_file_name}!')\n",
    "print(f'Start extracting {motor_engin_file_name} ...')\n",
    "# Extract and save the data source in [data] folder\n",
    "with gzip.open(output_gzip, \"rb\") as f_in:\n",
    "    with open(motor_engin_output_data_file, \"wb\") as f_out:\n",
    "        shutil.copyfileobj(f_in, f_out)\n",
    "# Remove the GZ file\n",
    "os.remove(output_gzip)\n",
    "print(f'Extracted {motor_engin_file_name}!')\n",
    "print(motor_engin_output_data_file)"
   ]
  },
  {
   "cell_type": "markdown",
   "id": "c810a719-de47-4a83-b39a-372759c79839",
   "metadata": {},
   "source": [
    "#### Transform"
   ]
  },
  {
   "cell_type": "markdown",
   "id": "0a0fdc00-f79c-4462-940d-bfdf3127676b",
   "metadata": {},
   "source": [
    "Upon executing the code in the preceding cell, a file named `mot_nrg.tsv` will be downloaded and stored in the `../data` directory. The data source contains the following contents:"
   ]
  },
  {
   "cell_type": "code",
   "execution_count": null,
   "id": "ca224a9c-a323-4277-aad1-9403d0bdf13b",
   "metadata": {},
   "outputs": [],
   "source": [
    "import pandas as pd\n",
    "\n",
    "motor_engin_data_frame = pd.read_csv(motor_engin_output_data_file, sep=\"\\t\", header=0, names=['abbr', 'motor_energy_full_name'])\n",
    "motor_engin_data_frame.head()"
   ]
  },
  {
   "cell_type": "markdown",
   "id": "3495296b-9106-4c59-a3b3-a544017b3292",
   "metadata": {},
   "source": [
    "### Average $CO_2$ emissions per km from new passenger cars"
   ]
  },
  {
   "cell_type": "markdown",
   "id": "ccd12210-b61c-4a94-95c5-57ab6f8e1421",
   "metadata": {},
   "source": [
    "#### Extract"
   ]
  },
  {
   "cell_type": "markdown",
   "id": "48761e63-6bd5-47ea-bd23-7723821edb2c",
   "metadata": {},
   "source": [
    "The data source can be downloaded directly by a URL. The URL for this data source is a compressed file and contains a CSV file. \n",
    "\n",
    "> There is also an option to download the CSV file directly.\n",
    "\n",
    "The following code download the GZ file and save the CSV file in `../data` directory."
   ]
  },
  {
   "cell_type": "code",
   "execution_count": null,
   "id": "9098e0af-3146-4f65-93d9-a0090cfa7b3a",
   "metadata": {},
   "outputs": [],
   "source": [
    "import gzip\n",
    "import os\n",
    "import shutil\n",
    "import requests\n",
    "\n",
    "# File names an locations to save the downloaded and extracted data source\n",
    "url = 'https://ec.europa.eu/eurostat/api/dissemination/sdmx/2.1/data/sdg_12_30/?format=SDMX-CSV&compressed=true'\n",
    "sdg_12_30_file_name = 'sdg_12_30'\n",
    "print(f'Start downloading {sdg_12_30_file_name} ...')\n",
    "output_gzip = f\"../data/{sdg_12_30_file_name}.gz\"\n",
    "sdg_12_30_output_data_file = f\"../data/{sdg_12_30_file_name}.csv\"\n",
    "if not os.path.exists('../data'):\n",
    "    os.mkdir('../data')\n",
    "\n",
    "# Download by the URL\n",
    "response = requests.get(url, stream=True)\n",
    "with open(output_gzip, \"wb\") as file:\n",
    "    for chunk in response.iter_content(chunk_size=1024):\n",
    "        if chunk:\n",
    "            file.write(chunk)\n",
    "print(f'Downloaded {sdg_12_30_file_name}!')\n",
    "print(f'Start extracting {sdg_12_30_file_name} ...')\n",
    "# Extract and save the data source in [data] folder\n",
    "with gzip.open(output_gzip, \"rb\") as f_in:\n",
    "    with open(sdg_12_30_output_data_file, \"wb\") as f_out:\n",
    "        shutil.copyfileobj(f_in, f_out)\n",
    "# Remove the GZ file\n",
    "os.remove(output_gzip)\n",
    "print(f'Extracted {sdg_12_30_file_name}!')\n",
    "print(sdg_12_30_output_data_file)"
   ]
  },
  {
   "cell_type": "markdown",
   "id": "259e2589-7027-417c-bdd4-b2c2e64a8222",
   "metadata": {},
   "source": [
    "#### Show"
   ]
  },
  {
   "cell_type": "markdown",
   "id": "029adb24-abb9-47a2-8632-e4b0acfb0e98",
   "metadata": {},
   "source": [
    "Upon executing the code in the preceding cell, a file named `sdg_12_30.csv` will be downloaded and stored in the `../data` directory. The data source contains the following contents:"
   ]
  },
  {
   "cell_type": "code",
   "execution_count": null,
   "id": "ab2979a6-506f-45a7-978c-0d34bb80d9bf",
   "metadata": {},
   "outputs": [],
   "source": [
    "import pandas as pd\n",
    "\n",
    "sdg_12_30_data_frame = pd.read_csv(sdg_12_30_output_data_file)\n",
    "sdg_12_30_data_frame.head()"
   ]
  },
  {
   "cell_type": "code",
   "execution_count": null,
   "id": "0c947933-95d8-4aa6-bf9c-a86e6b0332a8",
   "metadata": {},
   "outputs": [],
   "source": [
    "sdg_12_30_data_frame.columns"
   ]
  },
  {
   "cell_type": "code",
   "execution_count": null,
   "id": "844ee4bb-8178-4610-ba40-f06858a86119",
   "metadata": {},
   "outputs": [],
   "source": [
    "sdg_12_30_data_frame.dtypes"
   ]
  },
  {
   "cell_type": "code",
   "execution_count": null,
   "id": "9567fb96-ed57-4e35-b7c5-20aac787d559",
   "metadata": {},
   "outputs": [],
   "source": [
    "# Check if there are null values\n",
    "sdg_12_30_data_frame.isna().sum()"
   ]
  },
  {
   "cell_type": "markdown",
   "id": "7d13d9a9-ad50-42c8-802a-cf873be535cf",
   "metadata": {},
   "source": [
    "#### Transform"
   ]
  },
  {
   "cell_type": "markdown",
   "id": "6ce5ffcb-9434-415b-90cb-feacb0740804",
   "metadata": {},
   "source": [
    "The data frame reveals columns such as `DATAFLOW`, `LAST UPDATE`, `freq`, `geo`, `TIME_PERIOD`, `OBS_VALUE`, and `OBS_FLAG`. From an analytical standpoint, the `DATAFLOW` and `LAST UPDATE` columns are unnecessary as they contain information about the dataset. Regarding the `freq` column, it necessitates filtering for entries with a value of `A`, signifying annual results. Additionally, the `OBS_FLAG` column can be omitted, as it represents the observation status, indicating the status or validity of the data source. Further details about the observation status can be found [here](https://dd.eionet.europa.eu/vocabulary/eurostat/obs_status/view).\n",
    "\n",
    "The term `OBS_VALUE` is a standard label for numerical values within data sources from `ec.europa.eu`. In subsequent stages, combining certain data sources becomes imperative. To facilitate distinction, renaming this column to a more meaningful identifier is essential. In this context, the unit associated with `OBS_VALUE` is expressed as `g CO2 per km`. \n",
    "\n",
    "\n",
    "The subsequent cell will perform data frame cleaning and generate a new, refined version. The `OBS_VALUE` in this datasource is renamed to `emitted_co2`."
   ]
  },
  {
   "cell_type": "code",
   "execution_count": null,
   "id": "70e3ef81-c7f3-4b2f-af46-ce27e2ef71ad",
   "metadata": {},
   "outputs": [],
   "source": [
    "import pandas as pd\n",
    "\n",
    "# Read data from CSV\n",
    "sdg_12_30_data_frame = pd.read_csv(sdg_12_30_output_data_file)\n",
    "# Dropping some columns we do not need\n",
    "to_drop = [\"DATAFLOW\", \"LAST UPDATE\", \"OBS_FLAG\"]\n",
    "to_drop_filter = sdg_12_30_data_frame.filter(to_drop)\n",
    "sdg_12_30_data_frame.drop(to_drop_filter, axis=1, inplace=True)\n",
    "# Filter and drop rows that its frequency(freq) is not A|a.\n",
    "# This means we only consider annual frequencies!\n",
    "if \"freq\" in sdg_12_30_data_frame.columns:\n",
    "    frame_filter = sdg_12_30_data_frame[\"freq\"].str.contains(\"A\", case=False) == False\n",
    "    sdg_12_30_data_frame = sdg_12_30_data_frame[~frame_filter]\n",
    "    # Now that rows are filtered, we drop the column\n",
    "    sdg_12_30_data_frame = sdg_12_30_data_frame.drop([\"freq\"], axis=1)\n",
    "sdg_12_30_data_frame.dropna(inplace=True)\n",
    "if \"OBS_VALUE\" in sdg_12_30_data_frame.columns:\n",
    "    # Convert [OBS_VALUE] and [TIME_PERIOD] to [int] values\n",
    "    sdg_12_30_data_frame[\"OBS_VALUE\"] = sdg_12_30_data_frame[\"OBS_VALUE\"].astype(int)\n",
    "    sdg_12_30_data_frame.rename({\"OBS_VALUE\": \"emitted_co2\"}, axis=1, inplace=True)\n",
    "    \n",
    "if \"TIME_PERIOD\" in sdg_12_30_data_frame.columns:\n",
    "    sdg_12_30_data_frame[\"TIME_PERIOD\"] = sdg_12_30_data_frame[\"TIME_PERIOD\"].astype(str)\n",
    "    sdg_12_30_data_frame[\"TIME_PERIOD\"] = pd.to_datetime(sdg_12_30_data_frame[\"TIME_PERIOD\"], format='%Y')\n",
    "\n",
    "sdg_12_30_data_frame = sdg_12_30_data_frame.reset_index(drop=True)\n",
    "sdg_12_30_data_frame.head()"
   ]
  },
  {
   "cell_type": "markdown",
   "id": "176fb169-1af6-4c09-90a2-56dd44f3a93d",
   "metadata": {},
   "source": [
    "Check changes after transformation"
   ]
  },
  {
   "cell_type": "code",
   "execution_count": null,
   "id": "b7878e07-4b72-457d-b58d-4244f5a1957d",
   "metadata": {},
   "outputs": [],
   "source": [
    "sdg_12_30_data_frame.columns"
   ]
  },
  {
   "cell_type": "code",
   "execution_count": null,
   "id": "65843453-7647-48f4-8f74-8c414d0709e3",
   "metadata": {},
   "outputs": [],
   "source": [
    "sdg_12_30_data_frame.dtypes"
   ]
  },
  {
   "cell_type": "code",
   "execution_count": null,
   "id": "a1d30aff-6320-4b6f-83fd-a259196fbed6",
   "metadata": {},
   "outputs": [],
   "source": [
    "sdg_12_30_data_frame.describe()"
   ]
  },
  {
   "cell_type": "code",
   "execution_count": null,
   "id": "b41c3860-6e18-4e3b-8d90-19a669379003",
   "metadata": {},
   "outputs": [],
   "source": [
    "# Check if there are null values\n",
    "sdg_12_30_data_frame.isna().sum()"
   ]
  },
  {
   "cell_type": "markdown",
   "id": "a5b86dd8-e35a-4041-9ac3-84aab4e03350",
   "metadata": {},
   "source": [
    "### New passenger cars by type of motor energy"
   ]
  },
  {
   "cell_type": "markdown",
   "id": "a20f0223-bbb3-4b49-83ad-642fc3c007e3",
   "metadata": {},
   "source": [
    "#### Extract"
   ]
  },
  {
   "cell_type": "markdown",
   "id": "392ec8b0-4927-4506-ba71-543e54890b30",
   "metadata": {},
   "source": [
    "The data source can be downloaded directly by a URL. The URL for this data source is a compressed file and contains a CSV file. \n",
    "\n",
    "> There is also an option to download the CSV file directly.\n",
    "\n",
    "The following code download the GZ file and save the CSV file in `../data` directory."
   ]
  },
  {
   "cell_type": "code",
   "execution_count": null,
   "id": "3c310fd0-a662-4a28-8584-9feda23a683d",
   "metadata": {},
   "outputs": [],
   "source": [
    "import gzip\n",
    "import os\n",
    "import shutil\n",
    "import requests\n",
    "\n",
    "url = 'https://ec.europa.eu/eurostat/api/dissemination/sdmx/2.1/data/road_eqr_carpda/?format=SDMX-CSV&compressed=true'\n",
    "road_eqr_carpda_file_name = 'road_eqr_carpda'\n",
    "print(f'Start downloading {road_eqr_carpda_file_name} ...')\n",
    "output_gzip = f\"../data/{road_eqr_carpda_file_name}.gz\"\n",
    "road_eqr_carpda_output_data_file = f\"../data/{road_eqr_carpda_file_name}.csv\"\n",
    "\n",
    "if not os.path.exists('../data'):\n",
    "    os.mkdir('../data')\n",
    "\n",
    "response = requests.get(url, stream=True)\n",
    "with open(output_gzip, \"wb\") as file:\n",
    "    for chunk in response.iter_content(chunk_size=1024):\n",
    "        if chunk:\n",
    "            file.write(chunk)\n",
    "print(f'Downloaded {road_eqr_carpda_file_name}!')\n",
    "print(f'Start extracting {road_eqr_carpda_file_name} ...')\n",
    "# Extract and save the data source in [data] folder\n",
    "with gzip.open(output_gzip, \"rb\") as f_in:\n",
    "    with open(road_eqr_carpda_output_data_file, \"wb\") as f_out:\n",
    "        shutil.copyfileobj(f_in, f_out)\n",
    "# Remove the GZ file\n",
    "os.remove(output_gzip)\n",
    "print(f'Extracted {road_eqr_carpda_file_name}!')\n",
    "print(road_eqr_carpda_output_data_file)"
   ]
  },
  {
   "cell_type": "markdown",
   "id": "b0fd9aa7-4f8a-4ebf-b9b4-213fb9495966",
   "metadata": {},
   "source": [
    "#### Show"
   ]
  },
  {
   "cell_type": "markdown",
   "id": "7f5a883e-c681-4495-9d9c-42be2f7395ab",
   "metadata": {},
   "source": [
    "Upon executing the code in the preceding cell, a file named `road_eqr_carpda.csv` will be downloaded and stored in the `../data` directory. The data source contains the following contents:"
   ]
  },
  {
   "cell_type": "code",
   "execution_count": null,
   "id": "3eb5efd7-6182-4148-a124-9ee4b66ddd30",
   "metadata": {},
   "outputs": [],
   "source": [
    "import pandas as pd\n",
    "\n",
    "road_eqr_carpda_data_frame = pd.read_csv(road_eqr_carpda_output_data_file)\n",
    "road_eqr_carpda_data_frame.head()"
   ]
  },
  {
   "cell_type": "code",
   "execution_count": null,
   "id": "8502dd31-8159-4086-90c8-2443759a0cd2",
   "metadata": {},
   "outputs": [],
   "source": [
    "road_eqr_carpda_data_frame.columns"
   ]
  },
  {
   "cell_type": "code",
   "execution_count": null,
   "id": "dcd54775-b937-426b-8b71-22b6e400c77f",
   "metadata": {},
   "outputs": [],
   "source": [
    "road_eqr_carpda_data_frame.dtypes"
   ]
  },
  {
   "cell_type": "code",
   "execution_count": null,
   "id": "644f3e36-612b-4296-8f2a-a8ed0ee609fb",
   "metadata": {},
   "outputs": [],
   "source": [
    "# Check if there are null values\n",
    "road_eqr_carpda_data_frame.isna().sum()"
   ]
  },
  {
   "cell_type": "markdown",
   "id": "0356b618-8be9-4e34-9b5d-a9a246171764",
   "metadata": {},
   "source": [
    "#### Transform"
   ]
  },
  {
   "cell_type": "markdown",
   "id": "12a71ba5-8bcb-4f78-a443-e77ac6b1fa4e",
   "metadata": {},
   "source": [
    "The data frame reveals columns such as `DATAFLOW`, `LAST UPDATE`, `freq`, `unit`, `mot_nrg`, `geo`, `TIME_PERIOD`, `OBS_VALUE`, and `OBS_FLAG`. From an analytical standpoint, the `DATAFLOW` and `LAST UPDATE` columns are unnecessary as they contain information about the dataset. Regarding the `freq` column, it necessitates filtering for entries with a value of `A`, signifying annual results. Additionally, the `OBS_FLAG` column can be omitted, as it represents the observation status, indicating the status or validity of the data source. Further details about the observation status can be found [here](https://dd.eionet.europa.eu/vocabulary/eurostat/obs_status/view).\n",
    "\n",
    "The term `OBS_VALUE` is a standard label for numerical values within data sources from `ec.europa.eu`. In subsequent stages, combining certain data sources becomes imperative. To facilitate distinction, renaming this column to a more meaningful identifier is essential. In this context, the unit associated with `OBS_VALUE` is expressed as `number of passenger cars`. \n",
    "\n",
    "\n",
    "The subsequent cell will perform data frame cleaning and generate a new, refined version. The `OBS_VALUE` in this datasource is renamed to `n_passenger_cars`."
   ]
  },
  {
   "cell_type": "code",
   "execution_count": null,
   "id": "6016e385-20f6-4508-b330-12a5b2ea7b5a",
   "metadata": {},
   "outputs": [],
   "source": [
    "import pandas as pd\n",
    "\n",
    "# read data from CSV\n",
    "road_eqr_carpda_data_frame = pd.read_csv(road_eqr_carpda_output_data_file)\n",
    "# Dropping some columns that are not needed\n",
    "to_drop = [\"DATAFLOW\", \"LAST UPDATE\", \"OBS_FLAG\"]\n",
    "to_drop_filter = road_eqr_carpda_data_frame.filter(to_drop)\n",
    "road_eqr_carpda_data_frame = road_eqr_carpda_data_frame.drop(to_drop_filter, axis=1)\n",
    "# Filter and drop rows that its frequency(freq) is not A|a.\n",
    "# This means we only consider annual frequencies!\n",
    "if \"freq\" in road_eqr_carpda_data_frame.columns:\n",
    "    frame_filter = road_eqr_carpda_data_frame[\"freq\"].str.contains(\"A\", case=False) == False\n",
    "    road_eqr_carpda_data_frame = road_eqr_carpda_data_frame[~frame_filter]\n",
    "    # Now that rows are filtered, we drop the column\n",
    "    road_eqr_carpda_data_frame = road_eqr_carpda_data_frame.drop([\"freq\"], axis=1)\n",
    "# Filter those rows with a \"NR\" value for \"unit\". NR means number\n",
    "if \"unit\" in road_eqr_carpda_data_frame.columns:\n",
    "    frame_filter = road_eqr_carpda_data_frame[\"unit\"].str.contains(\"NR\", case=False) == False\n",
    "    road_eqr_carpda_data_frame = road_eqr_carpda_data_frame[~frame_filter]\n",
    "    # Now that rows are filtered, we drop the column\n",
    "    road_eqr_carpda_data_frame = road_eqr_carpda_data_frame.drop([\"unit\"], axis=1)\n",
    "road_eqr_carpda_data_frame = road_eqr_carpda_data_frame.dropna()\n",
    "# Convert [OBS_VALUE] to contain [int] values\n",
    "if \"OBS_VALUE\" in road_eqr_carpda_data_frame.columns:\n",
    "    road_eqr_carpda_data_frame[\"OBS_VALUE\"] = road_eqr_carpda_data_frame[\"OBS_VALUE\"].astype(int)\n",
    "    road_eqr_carpda_data_frame = road_eqr_carpda_data_frame.rename({\"OBS_VALUE\": \"n_passenger_cars\"}, axis=1)\n",
    "\n",
    "if \"TIME_PERIOD\" in road_eqr_carpda_data_frame.columns:\n",
    "    # Convert [TIME_PERIOD] to [datetime] values\n",
    "    road_eqr_carpda_data_frame[\"TIME_PERIOD\"] = road_eqr_carpda_data_frame[\"TIME_PERIOD\"].astype(str)\n",
    "    road_eqr_carpda_data_frame[\"TIME_PERIOD\"] = pd.to_datetime(road_eqr_carpda_data_frame[\"TIME_PERIOD\"], format='%Y')\n",
    "\n",
    "road_eqr_carpda_data_frame = road_eqr_carpda_data_frame.reset_index(drop=True)\n",
    "road_eqr_carpda_data_frame.head()"
   ]
  },
  {
   "cell_type": "markdown",
   "id": "87336457-fc07-4325-b9cb-09569d7a7187",
   "metadata": {},
   "source": [
    "###### Check the changes after transformation"
   ]
  },
  {
   "cell_type": "code",
   "execution_count": null,
   "id": "dfc8b7c9-a4ca-48ba-adb6-ae7b56d7f39d",
   "metadata": {},
   "outputs": [],
   "source": [
    "road_eqr_carpda_data_frame.columns"
   ]
  },
  {
   "cell_type": "code",
   "execution_count": null,
   "id": "d15f1b02-7fc3-4957-9369-a607b0480920",
   "metadata": {},
   "outputs": [],
   "source": [
    "road_eqr_carpda_data_frame.dtypes"
   ]
  },
  {
   "cell_type": "code",
   "execution_count": null,
   "id": "0597ce42-bbba-42cb-b9bb-c5a4ca05e3a4",
   "metadata": {},
   "outputs": [],
   "source": [
    "road_eqr_carpda_data_frame.describe()"
   ]
  },
  {
   "cell_type": "code",
   "execution_count": null,
   "id": "0aea5f48-5e09-4415-b654-4ae9084acd14",
   "metadata": {},
   "outputs": [],
   "source": [
    "# Check if there are null values\n",
    "road_eqr_carpda_data_frame.isna().sum()"
   ]
  },
  {
   "cell_type": "markdown",
   "id": "02961974-352a-4a62-b66c-d0ac4fe75ae1",
   "metadata": {},
   "source": [
    "# Result"
   ]
  },
  {
   "cell_type": "markdown",
   "id": "8b16328d-086d-4d91-bdb6-2c20842f85f6",
   "metadata": {},
   "source": [
    "## Average $CO_2$ emissions per km from new passenger cars"
   ]
  },
  {
   "cell_type": "markdown",
   "id": "88fd0429-f880-45df-b4ce-01a22328c5bb",
   "metadata": {},
   "source": [
    "### Average $CO_2$ emissions for each country over the last 5 years"
   ]
  },
  {
   "cell_type": "code",
   "execution_count": null,
   "id": "1de7a04f-671a-4c84-8acf-ad4ca7c79ef1",
   "metadata": {},
   "outputs": [],
   "source": [
    "import pandas as pd\n",
    "import matplotlib.pyplot as plt\n",
    "\n",
    "# Copy data frame\n",
    "data_frame = sdg_12_30_data_frame.copy()\n",
    "# Filter data for the last 5 years and group by geo and calculate the average\n",
    "data_frame = data_frame \\\n",
    "    .query('TIME_PERIOD >= \"2019-01-01\"') \\\n",
    "    .groupby(\"geo\", observed=False, as_index=False) \\\n",
    "    .agg({\"emitted_co2\": \"mean\"}) \\\n",
    "    .sort_values(by=\"emitted_co2\", ascending=False) \\\n",
    "    .reset_index()\n",
    "\n",
    "# Merge with GEO code list to use the GEO full name instead of abbrivations in the plot\n",
    "data_frame = data_frame.merge(geo_data_frame, right_on=\"abbr\", left_on=\"geo\")\n",
    "\n",
    "# Plot\n",
    "ax = data_frame.plot(kind=\"bar\", x=\"geo_full_name\", y=\"emitted_co2\", width=0.7, legend=False, edgecolor='black')\n",
    "ax.set_xlabel(\"Location\")\n",
    "ax.set_ylabel(\"Average emitted $CO_2$(g/km)\")\n",
    "ax.set_title(\"Average emitted (g/km) for new Passanger cars for the last 5 years\")\n",
    "plt.show()"
   ]
  },
  {
   "cell_type": "markdown",
   "id": "76a258c5-ed94-4614-a0f2-6bda3094f6c4",
   "metadata": {},
   "source": [
    "Norway, for instance, appears to have effectively reduced its $CO_2$ emissions. However, it is important to note that the available data for Norway extends only up to 2019, as detailed in the [Future Work](#Future-work) section."
   ]
  },
  {
   "cell_type": "markdown",
   "id": "e74a74d1-09d1-4cf9-9e46-2f27baae7685",
   "metadata": {},
   "source": [
    "### $CO_2$ emissions in 2019 - 2020"
   ]
  },
  {
   "cell_type": "code",
   "execution_count": null,
   "id": "df8dbe92-aa0b-476d-8292-70d291acb96d",
   "metadata": {},
   "outputs": [],
   "source": [
    "import pandas as pd\n",
    "import matplotlib.pyplot as plt\n",
    "import seaborn as sns\n",
    "\n",
    "# Copy data frame\n",
    "data_frame = sdg_12_30_data_frame.copy()\n",
    "# Merge with GEO code list to use the GEO full name instead of abbrivations in the plot\n",
    "data_frame = data_frame.merge(geo_data_frame, right_on=\"abbr\", left_on=\"geo\")\n",
    "\n",
    "data_2019 = data_frame \\\n",
    "    .query('TIME_PERIOD == \"2019-01-01\"') \\\n",
    "    .reset_index(drop=True)\n",
    "\n",
    "data_2020 = data_frame \\\n",
    "    .query('TIME_PERIOD == \"2020-01-01\"') \\\n",
    "    .reset_index(drop=True)\n",
    "\n",
    "df_combined = pd.concat([data_2020, data_2019], axis=0)\n",
    "df_combined['TIME_PERIOD'] = df_combined['TIME_PERIOD'].dt.strftime('%Y')\n",
    "# Plot\n",
    "plt.figure(figsize=(12, 8))\n",
    "sns.barplot(x='emitted_co2', y='geo_full_name', hue='TIME_PERIOD', data=df_combined)\n",
    "plt.xlabel('Emitted $CO_2$')\n",
    "plt.ylabel('Country')\n",
    "plt.legend(title=\"Year\")\n",
    "plt.title('Changes in Emitted $CO_2$ between 2019 and 2020')\n",
    "plt.show()"
   ]
  },
  {
   "cell_type": "markdown",
   "id": "bca3d28d-cdf6-4f3f-ad2f-31c7a314ef73",
   "metadata": {
    "jp-MarkdownHeadingCollapsed": true
   },
   "source": [
    "### $CO_2$ emissions for `Germany` over the time"
   ]
  },
  {
   "cell_type": "code",
   "execution_count": null,
   "id": "324038f6-f8ea-4ab4-968a-64c9bd2482e6",
   "metadata": {},
   "outputs": [],
   "source": [
    "import pandas as pd\n",
    "import matplotlib.pyplot as plt\n",
    "\n",
    "# Copy data frame\n",
    "data_frame = sdg_12_30_data_frame.copy()\n",
    "germany_data = data_frame[data_frame['geo'] == 'DE']\n",
    "\n",
    "# Plot\n",
    "ax = germany_data.plot(x='TIME_PERIOD', y='emitted_co2', marker='o', linestyle='-', label='$CO_2$(g/km)')\n",
    "ax.legend(labels=['Custom Name for Germany'])\n",
    "ax.set_xlabel('Year')\n",
    "ax.set_ylabel('$CO_2$ emissions(g per km)')\n",
    "ax.set_title('$CO_2$ emissions(g per km) over time for Germany')\n",
    "plt.show()"
   ]
  },
  {
   "cell_type": "markdown",
   "id": "73a0a536-308a-428d-8a0e-7192fc4728cb",
   "metadata": {},
   "source": [
    "As it is shown in the graph, Germany demonstrated success in reducing $CO_2$ emissions over the years. A noticeable steep slope is observed from 2019 to 2020, attributed to the impact of the Corona situation on the data. Further details regarding this phenomenon will be discussed in the [limitations](#Limitations) and [future work](#Future-work) section."
   ]
  },
  {
   "cell_type": "markdown",
   "id": "ba406b65-47c9-412f-a3ca-e6343a8286da",
   "metadata": {},
   "source": [
    "### Distribution of $CO_2$ emissions for `Germany` over the time"
   ]
  },
  {
   "cell_type": "code",
   "execution_count": null,
   "id": "d1d426cd-4113-4ba0-96be-296a86aa5fd6",
   "metadata": {},
   "outputs": [],
   "source": [
    "import pandas as pd\n",
    "import matplotlib.pyplot as plt\n",
    "import seaborn as sns\n",
    "\n",
    "# Copy data frame\n",
    "data_frame = sdg_12_30_data_frame.copy()\n",
    "germany_data = data_frame[data_frame['geo'] == 'DE']\n",
    "\n",
    "# Plot\n",
    "ax = sns.histplot(data=germany_data, x=\"emitted_co2\", kde=True, bins=20, linewidth=0.5)\n",
    "ax.set_xlabel('$CO_2$ emissions(g per km)')\n",
    "ax.set_ylabel('Frequency')\n",
    "ax.set_title('Distibution of $CO_2$ emissions(g per km) over time for Germany')\n",
    "plt.show()"
   ]
  },
  {
   "cell_type": "markdown",
   "id": "647cc1e4-173e-4eb2-b5fe-32a302e03d00",
   "metadata": {},
   "source": [
    "## New passenger cars by type of motor energy"
   ]
  },
  {
   "cell_type": "markdown",
   "id": "6c8e8a3f-30bf-4ca6-a246-a63d1b4a352a",
   "metadata": {},
   "source": [
    "### Average new passenger cars by type of motor energy for each location"
   ]
  },
  {
   "cell_type": "code",
   "execution_count": null,
   "id": "0d2541bc-b75e-489c-b891-ec19f7a0bb3f",
   "metadata": {},
   "outputs": [],
   "source": [
    "import pandas as pd\n",
    "import matplotlib.pyplot as plt\n",
    "import numpy as np\n",
    "from matplotlib.ticker import FuncFormatter\n",
    "\n",
    "# Copy data frame\n",
    "data_frame = road_eqr_carpda_data_frame.copy()\n",
    "# Calculate average for each combination of \"mot_nrg\" and \"geo\"\n",
    "data_frame = data_frame \\\n",
    "    .groupby([\"mot_nrg\", \"geo\"], observed=False, as_index=False) \\\n",
    "    .agg({\"n_passenger_cars\": \"mean\"})\\\n",
    "    .reset_index(drop=True)\n",
    "\n",
    "\n",
    "# Merge this data source with GEO and Motor energy side data sources which contain the full abbreviation names \n",
    "average_data_frame = data_frame.merge(geo_data_frame, left_on = \"geo\",right_on = \"abbr\")  \n",
    "average_data_frame = average_data_frame.merge(motor_engin_data_frame, left_on = \"mot_nrg\", right_on = \"abbr\") \n",
    "# Generate random colors for each \"mot_nrg\"\n",
    "colors = {mot_nrg: np.random.rand(3,) for mot_nrg in data_frame[\"mot_nrg\"].unique()}\n",
    "# Create the horizontal bar chart\n",
    "fig, ax = plt.subplots(figsize=(10, 6))\n",
    "for mot_nrg, group in average_data_frame.groupby(\"mot_nrg\", observed=False):\n",
    "    ax.barh(group[\"geo_full_name\"], group[\"n_passenger_cars\"], color=colors[mot_nrg], label=group[\"motor_energy_full_name\"].iloc[0], edgecolor='black')\n",
    "\n",
    "ax.set_xlabel(\"Average number of new Passenger Cars over years\")\n",
    "ax.set_ylabel(\"Country\")\n",
    "ax.set_title(\"Average number of new Passenger cars by motor enery type\")\n",
    "ax.xaxis.set_major_formatter(FuncFormatter(lambda x, _: f\"{x/1000:.0f}k\"))\n",
    "ax.legend(bbox_to_anchor=(1, 1), title=\"Motor energy types\")\n",
    "plt.show()"
   ]
  },
  {
   "cell_type": "markdown",
   "id": "ff2ad7e6-8b2f-46fc-bdbc-14db319855dd",
   "metadata": {},
   "source": [
    "### Average new passenger cars by type of motor energy"
   ]
  },
  {
   "cell_type": "code",
   "execution_count": null,
   "id": "2e5c44b4-e488-4749-b167-003706aaf2df",
   "metadata": {},
   "outputs": [],
   "source": [
    "import pandas as pd\n",
    "import matplotlib.pyplot as plt\n",
    "import numpy as np\n",
    "from matplotlib.ticker import FuncFormatter\n",
    "\n",
    "\n",
    "# Copy data frame\n",
    "data_frame = road_eqr_carpda_data_frame.copy()\n",
    "# Calculate average for each combination of \"mot_nrg\" and \"TIME_PERIOD\"\n",
    "data_frame = data_frame \\\n",
    "    .groupby([\"mot_nrg\",\"TIME_PERIOD\"], as_index=False, observed=False) \\\n",
    "    .agg({\"n_passenger_cars\":\"sum\"})\\\n",
    "    .reset_index(drop=True)\n",
    "\n",
    "data_frame = data_frame.merge(motor_engin_data_frame, left_on = \"mot_nrg\", right_on = \"abbr\") \n",
    "# Set \"motor_energy_full_name\" as a categorical column\n",
    "data_frame[\"motor_energy_full_name\"] = data_frame[\"motor_energy_full_name\"].astype(\"category\")\n",
    "pivot_df = data_frame.pivot_table(index=\"TIME_PERIOD\", columns=\"motor_energy_full_name\", values=\"n_passenger_cars\", aggfunc=\"sum\")\n",
    "pivot_df = pivot_df.loc[:, pivot_df.sum().sort_values(ascending=False).index]\n",
    "ax = pivot_df.plot(kind=\"bar\", stacked=True, edgecolor='black')\n",
    "ax.set_xlabel(\"Year\")\n",
    "ax.set_ylabel(\"Number of new Passenger Cars\")\n",
    "ax.yaxis.set_major_formatter(FuncFormatter(lambda y, _: f\"{y/1000000:.0f}M\"))\n",
    "ax.set_xticklabels([pd.to_datetime(val).strftime('%Y') for val in pivot_df.index.get_level_values(0)], rotation=45, ha='right')\n",
    "ax.set_title(\"Average new passenger cars by type of motor energy\")\n",
    "ax.legend(bbox_to_anchor=(1, 1), title=\"Motor energy types\")\n",
    "plt.show()"
   ]
  },
  {
   "cell_type": "raw",
   "id": "ae8116fa-b0aa-45b6-9f55-e9de05c958c8",
   "metadata": {},
   "source": [
    "The majority of passenger cars operate with pure petrol engines. The subsequent analysis will focus on tracking the changes in Germany over time."
   ]
  },
  {
   "cell_type": "markdown",
   "id": "7ac28183-1758-420f-93a1-de72a621c0c2",
   "metadata": {},
   "source": [
    "### New passanger cars for `Germany` by motor enery type over time"
   ]
  },
  {
   "cell_type": "code",
   "execution_count": null,
   "id": "aa9a8171-fa03-456a-81fd-4fc53795aa56",
   "metadata": {},
   "outputs": [],
   "source": [
    "import pandas as pd\n",
    "import matplotlib.pyplot as plt\n",
    "\n",
    "# Copy data frame\n",
    "data_frame = road_eqr_carpda_data_frame.copy()\n",
    "# Filter data for Germany\n",
    "data_frame = data_frame[data_frame['geo'] == 'DE']\n",
    "# Merge this data source with GEO and Motor energy side data sources which contain the full abbreviation names \n",
    "germany_data_frame = data_frame.merge(geo_data_frame, left_on = \"geo\",right_on = \"abbr\")  \n",
    "germany_data_frame = germany_data_frame.merge(motor_engin_data_frame, left_on = \"mot_nrg\", right_on = \"abbr\") \n",
    "# Generate random colors for each 'mot_nrg'\n",
    "colors = {mot_nrg: np.random.rand(3,) for mot_nrg in germany_data_frame['mot_nrg'].unique()}\n",
    "# Create the line chart\n",
    "fig, ax = plt.subplots(figsize=(10, 6))\n",
    "for mot_nrg, group in germany_data_frame.groupby('mot_nrg', observed=False):\n",
    "    ax.plot(group['TIME_PERIOD'], group['n_passenger_cars'], color=colors[mot_nrg], label=group['motor_energy_full_name'].iloc[0], marker='o')\n",
    "ax.set_xlabel('Year')\n",
    "ax.set_ylabel('Number of new Passenger Cars')\n",
    "ax.yaxis.set_major_formatter(FuncFormatter(lambda y, _: f'{y/1000:.0f}k'))\n",
    "ax.set_title('Number of new Passenger Cars by motor energy in Germany')\n",
    "ax.legend(bbox_to_anchor=(1, 1), title='Motor energy types')\n",
    "plt.show()"
   ]
  },
  {
   "cell_type": "markdown",
   "id": "30631854-ce9f-4b77-8bba-c3451ffdd2e6",
   "metadata": {},
   "source": [
    "There are some missing data for years prior to 2017 for some motor types."
   ]
  },
  {
   "cell_type": "markdown",
   "id": "5b845a46-c416-4dc1-9297-b8471022131b",
   "metadata": {},
   "source": [
    "### Distribution of motor types in 2022 in Germany"
   ]
  },
  {
   "cell_type": "code",
   "execution_count": null,
   "id": "69de9b9b-96db-458c-aac0-38f3e3376606",
   "metadata": {},
   "outputs": [],
   "source": [
    "import pandas as pd\n",
    "import matplotlib.pyplot as plt\n",
    "\n",
    "# Copy data frame\n",
    "data_frame = road_eqr_carpda_data_frame.copy()\n",
    "# Filter data for Germany and the year 2022\n",
    "germany_2022_data = data_frame \\\n",
    "    .query('(geo == \"DE\") & (TIME_PERIOD == \"2022-01-01\")') \\\n",
    "    .reset_index(drop=True)\n",
    "# Filter the rows that have less than 1% of all new passanger cars\n",
    "germany_2022_data = germany_2022_data[germany_2022_data[\"n_passenger_cars\"] / germany_2022_data[\"n_passenger_cars\"].sum() >= 0.01]\n",
    "# Calculate the percentage and add it as a new column\n",
    "germany_2022_data[\"percentage\"] = germany_2022_data[\"n_passenger_cars\"] / germany_2022_data[\"n_passenger_cars\"].sum() * 100.0\n",
    "# Merge with motor name df\n",
    "germany_2022_data = germany_2022_data.merge(motor_engin_data_frame, left_on = \"mot_nrg\", right_on = \"abbr\") \n",
    "# Sort data frame based on the \"percentages\"\n",
    "germany_2022_data = germany_2022_data.sort_values(by=\"percentage\", ascending=False)\n",
    "# Plot\n",
    "fig, ax = plt.subplots()\n",
    "labels = [\"{} ---- {:.1f}%\".format(row[\"motor_energy_full_name\"], row[\"percentage\"]) for _,row in germany_2022_data.iterrows()]\n",
    "ax.pie(germany_2022_data[\"n_passenger_cars\"], autopct=\"%1.1f%%\", startangle=90, rotatelabels =True, pctdistance=0.6, wedgeprops={\"linewidth\": 0.8, \"edgecolor\": \"black\", 'antialiased': True})\n",
    "ax.axis(\"equal\")\n",
    "ax.legend(bbox_to_anchor=(2, 1), title=\"Motor energy types\", labels=labels)\n",
    "ax.set_title(\"Distribution of motor types in 2022 in Germany(Only shows percentage > 1%)\")\n",
    "plt.show()"
   ]
  },
  {
   "cell_type": "markdown",
   "id": "86485a97-43e0-4777-99b8-df2ab4d75bc2",
   "metadata": {},
   "source": [
    "### Highest number of new Passenger car with petroleum product motor enery in 2020"
   ]
  },
  {
   "cell_type": "code",
   "execution_count": null,
   "id": "5f3c764a-b29a-4bb8-8011-49f1e085f1a7",
   "metadata": {},
   "outputs": [],
   "source": [
    "motor_engin_data_frame.head()"
   ]
  },
  {
   "cell_type": "code",
   "execution_count": null,
   "id": "9997d40b-e11f-45f9-a89e-e7bc30149550",
   "metadata": {},
   "outputs": [],
   "source": [
    "import pandas as pd\n",
    "\n",
    "# Copy data frame\n",
    "data_frame = road_eqr_carpda_data_frame.copy()\n",
    "# Merge with GEO code list to use the GEO full name instead of abbrivations in the plot\n",
    "data_frame = data_frame.merge(geo_data_frame, right_on=\"abbr\", left_on=\"geo\").drop([\"abbr\",\"geo\"], axis=1)\n",
    "# Merge with motor name df\n",
    "data_frame = data_frame.merge(motor_engin_data_frame, left_on = \"mot_nrg\", right_on = \"abbr\").drop([\"abbr\"], axis=1)\n",
    "\n",
    "data_frame \\\n",
    "    .query('TIME_PERIOD == \"2020-01-01\" & mot_nrg == \"PET\"') \\\n",
    "    .sort_values(by='n_passenger_cars', ascending=False) \\\n",
    "    .drop([\"mot_nrg\", \"TIME_PERIOD\", \"motor_energy_full_name\"], axis=1) \\\n",
    "    .reset_index(drop=True) \\\n",
    "    .head()"
   ]
  },
  {
   "cell_type": "markdown",
   "id": "0fb47258-5822-4544-b490-e2b52b34cea5",
   "metadata": {},
   "source": [
    "## Changes in motor type for new registered car in Norway"
   ]
  },
  {
   "cell_type": "code",
   "execution_count": null,
   "id": "e2499c16-10b9-4896-aa37-dcd75269c4ef",
   "metadata": {},
   "outputs": [],
   "source": [
    "import pandas as pd\n",
    "import matplotlib.pyplot as plt\n",
    "import numpy as np\n",
    "from matplotlib.ticker import FuncFormatter\n",
    "\n",
    "\n",
    "# Copy data frame\n",
    "data_frame = road_eqr_carpda_data_frame.copy()\n",
    "# Calculate average for each combination of \"mot_nrg\" and \"TIME_PERIOD\"\n",
    "data_frame = data_frame \\\n",
    "    .query('geo == \"NO\"') \\\n",
    "    .groupby([\"mot_nrg\",\"TIME_PERIOD\", 'geo'], as_index=False, observed=False) \\\n",
    "    .agg({\"n_passenger_cars\":\"sum\"})\\\n",
    "    .reset_index(drop=True)\n",
    "\n",
    "# data_frame = data_frame.merge(motor_engin_data_frame, left_on = \"mot_nrg\", right_on = \"abbr\") \n",
    "# # Set \"motor_energy_full_name\" as a categorical column\n",
    "# data_frame[\"motor_energy_full_name\"] = data_frame[\"motor_energy_full_name\"].astype(\"category\")\n",
    "# pivot_df = data_frame.pivot_table(index=\"TIME_PERIOD\", columns=\"motor_energy_full_name\", values=\"n_passenger_cars\", aggfunc=\"sum\")\n",
    "# pivot_df = pivot_df.loc[:, pivot_df.sum().sort_values(ascending=False).index]\n",
    "# ax = pivot_df.plot(kind=\"bar\", stacked=True, edgecolor='black')\n",
    "# ax.set_xlabel(\"Year\")\n",
    "# ax.set_ylabel(\"Number of new Passenger Cars\")\n",
    "# ax.yaxis.set_major_formatter(FuncFormatter(lambda y, _: f\"{y/1000000:.0f}M\"))\n",
    "# ax.set_xticklabels([pd.to_datetime(val).strftime('%Y') for val in pivot_df.index.get_level_values(0)], rotation=45, ha='right')\n",
    "# ax.set_title(\"Number of new Passenger Cars by motor energy in Germany\")\n",
    "# ax.legend(bbox_to_anchor=(1, 1), title=\"Motor energy types\")\n",
    "# plt.show()"
   ]
  },
  {
   "cell_type": "markdown",
   "id": "e369b339-4741-41ff-89c8-040f7b03ca2f",
   "metadata": {},
   "source": [
    "Based on [Highest $CO_2$ emissions GEO in2020](#Highest-$CO_2$-emissions-GEO-in-2020), the higgest emission in 2020 is from `Cyprus` and based on the above result, `Germany` has the highest number of petroleum product motor cars in 2020.\n",
    "\n",
    "In both lists `Spain` and `Poland` has the same order."
   ]
  },
  {
   "cell_type": "markdown",
   "id": "0363b83b-8b67-464f-a9f1-985ed3e8679b",
   "metadata": {},
   "source": [
    "---"
   ]
  },
  {
   "cell_type": "markdown",
   "id": "dd1ba420-10fe-4bd2-ba4c-de9cdd3bfa16",
   "metadata": {},
   "source": [
    "### Merge data sources"
   ]
  },
  {
   "cell_type": "markdown",
   "id": "8bf4292c-650a-4e8d-8cc4-4c1727dc0332",
   "metadata": {},
   "source": [
    "The two dataset can be merged together on the `geo` and `TIME_PERIOD` columns to connect the $CO_2$ emission for new Passenger cars and number of new registered cars."
   ]
  },
  {
   "cell_type": "code",
   "execution_count": null,
   "id": "880e0064-0384-4eef-b27f-c486717dee09",
   "metadata": {},
   "outputs": [],
   "source": [
    "# Copy data frames\n",
    "data_frame_passenger = road_eqr_carpda_data_frame.copy()\n",
    "data_frame_co2 = sdg_12_30_data_frame.copy()\n",
    "merge_on = ['TIME_PERIOD','geo']\n",
    "merged_data_frame = pd.merge(data_frame_passenger, data_frame_co2, on=merge_on, how=\"inner\").reset_index(drop=True)\n",
    "merged_data_frame.head()"
   ]
  },
  {
   "cell_type": "markdown",
   "id": "02bfde1c-1af1-424f-8164-2266f2524cb0",
   "metadata": {},
   "source": [
    "###  $CO_2$ emission vs. new Passenger cars by year"
   ]
  },
  {
   "cell_type": "code",
   "execution_count": null,
   "id": "8994c875-75f9-4f32-8629-085f35cdbac7",
   "metadata": {},
   "outputs": [],
   "source": [
    "# Copy merged data frame\n",
    "# Copy data frames\n",
    "data_frame = merged_data_frame.copy()\n",
    "# Sum up all the different motor types\n",
    "data_frame = data_frame \\\n",
    "    .groupby(['geo','TIME_PERIOD'], as_index=False, observed=False) \\\n",
    "    .agg({'n_passenger_cars':'sum', 'emitted_co2': 'sum'})\\\n",
    "    .reset_index(drop=True)\n",
    "# Merge with GEO code list to use the GEO full name instead of abbrivations in the plot\n",
    "data_frame = data_frame.merge(geo_data_frame, right_on=\"abbr\", left_on=\"geo\")\n",
    "ax = sns.scatterplot(x=\"n_passenger_cars\", y=\"emitted_co2\",\n",
    "                hue=\"geo_full_name\",\n",
    "                sizes=(1, 8), linewidth=0,\n",
    "                data=data_frame)\n",
    "\n",
    "ax.set_xlabel('Number of new Passenger cars')\n",
    "ax.set_ylabel('Emitted $CO_2$(g/km)')\n",
    "ax.xaxis.set_major_formatter(FuncFormatter(lambda y, _: f'{y/1000:.0f}k'))\n",
    "ax.set_title('New Passanger cars vs. $CO_2$ emission')\n",
    "ax.legend(bbox_to_anchor=(2, 1), title='Geo locations')\n",
    "plt.show()"
   ]
  },
  {
   "cell_type": "markdown",
   "id": "a1f62359-326a-488c-8503-6dd4f00156f8",
   "metadata": {},
   "source": [
    "### $CO_2$ emission vs. new Passenger cars vs. motor energy"
   ]
  },
  {
   "cell_type": "code",
   "execution_count": null,
   "id": "57eafa61-bb5d-48bb-b91e-3dbc94f1857d",
   "metadata": {},
   "outputs": [],
   "source": [
    "# Copy merged data frame\n",
    "data_frame = merged_data_frame.copy()\n",
    "# Merge with motor name df\n",
    "data_frame = data_frame.merge(motor_engin_data_frame, left_on = \"mot_nrg\", right_on = \"abbr\").drop([\"abbr\"], axis=1)\n",
    "\n",
    "# Plot\n",
    "sns.set_theme(style=\"ticks\")\n",
    "ax = sns.pairplot(vars= ['TIME_PERIOD', 'emitted_co2', 'n_passenger_cars'], hue=\"motor_energy_full_name\", data=data_frame)\n",
    "plt.show()"
   ]
  },
  {
   "cell_type": "markdown",
   "id": "b46503cc-e906-4452-8498-1546c07aebbb",
   "metadata": {},
   "source": [
    "### Correlation between $CO_2$ emission and new Passenger cars by time"
   ]
  },
  {
   "cell_type": "code",
   "execution_count": null,
   "id": "9002b19d-5426-407f-9f72-2c517b940fe0",
   "metadata": {},
   "outputs": [],
   "source": [
    "import pandas as pd\n",
    "import matplotlib.pyplot as plt\n",
    "import seaborn as sns\n",
    "\n",
    "# Copy merged data frame\n",
    "data_frame = merged_data_frame.copy()\n",
    "# Merge with motor name df\n",
    "data_frame = data_frame.merge(motor_engin_data_frame, left_on = \"mot_nrg\", right_on = \"abbr\").drop([\"abbr\"], axis=1).reset_index(drop=True)\n",
    "# Sum up the factors for groups\n",
    "data_frame = data_frame \\\n",
    "    .groupby(['TIME_PERIOD'], as_index=False, observed=False) \\\n",
    "    .agg({'n_passenger_cars':'sum', 'emitted_co2': 'sum'})\\\n",
    "    .reset_index(drop=True)\n",
    "# Plot\n",
    "corr_df = data_frame[['emitted_co2', 'n_passenger_cars']].corr()\n",
    "ax = sns.heatmap(corr_df, annot=True, cmap='coolwarm', linewidths=.5)\n",
    "plt.show()"
   ]
  },
  {
   "cell_type": "markdown",
   "id": "2a9862fc-c77d-4cea-ada4-7b1d1e3b4729",
   "metadata": {},
   "source": [
    "# Conclusion"
   ]
  },
  {
   "cell_type": "markdown",
   "id": "32dbf6b4-39c0-4c2a-88de-f742aeb2cbbe",
   "metadata": {},
   "source": [
    "Cutting down on greenhouse gas emissions is essential to slow down global warming and reduce its impact on the environment and human health.\n",
    "\n",
    "[Average $CO_2$ emissions for each country over the last 5 years](#Average-CO2-emissions-for-each-country-over-the-last-5-years) indicates a consistent decrease in greenhouse gas(GHG) emissions over the last 5 years. Certain countries exhibit more significant changes, with Norway being one of them. Due to data limitations, information for Norway is available only from 2019 onwards. In order to gain a better understanding of Norway's efforts to reduce $CO_2$ emissions, an evaluation involves comparing the available data for 2019 and 2020.\n",
    "\n",
    "Analyzing the $CO_2$ emissions from newly registered cars in the EU, Iceland, Norway, and the United Kingdom, there was a substantial 12% decrease in 2020 compared to 2019 levels (refer to [CO2 emissions in- 2019--2020](#CO_2-emissions-GEO-in-2019---2020)).\n",
    "\n",
    "As illustrated in the section on $CO_2$ emissions for Germany over time (refer to [#$CO_2$-emissions-for-Germany-over-the-time]), the country has shown significant success in decreasing $CO_2$ emissions throughout the years. A distinct and steep decline is evident from 2019 to 2020, which can be attributed to the impact of the COVID-19 pandemic on the data. Further details on this phenomenon will be discussed in the sections on limitations (refer to [Limitations](#Limitations) and future work (refer to [Future-work](#Future-work)).\n",
    "\n",
    "\n",
    "[Average new passenger cars by type of motor energy for each location](#Average-new-passenger-cars-by-type-of-motor-energy-for-each-location) indicates that the majority of newly registered passenger cars in recent years mainly utilize either pure petroleum or one of its derivatives. \n",
    "\n",
    "It is crucial to examine the evolving trends in motor type preferences over time. This analysis is conducted in the section labeled \"Average New Passenger Cars by Type of Motor Energy\" [(link)](#Average-new-passenger-cars-by-type-of-motor-energy).\n",
    "\n",
    "Examining motor types in Norway is crucial due to their notable effectiveness in reducing $CO_2$ emissions. The data presented in [](#Changes-in-motor-type-for-new-registered-car-in-Norway) illustrates a substantial increase in electric cars from 2019 to 2020 in the country.(refer to [Changes-in-motor-type-for-new-registered-car-in-Norway](#Changes-in-motor-type-for-new-registered-car-in-Norway)\n",
    "\n",
    "\n",
    "Germany stands out as one of the major producers of $CO_2$ emissions from petrol. The evolution of motor type preferences over time is illustrated in the data on new passenger cars for Germany, as depicted in [New-passenger-cars-for-Germany-by-motor-energy-type-over-time](#New-passenger-cars-for-Germany-by-motor-energy-type-over-time). According to the statistics presented in [[Distribution-of-motor-types-in-2022-in-Germany](Distribution-of-motor-types-in-2022-in-Germany), it is evident that Germany mainly opts for petrol engines over other cleaner alternatives in the majority of cases.\n",
    "\n",
    "The report also includes a correlation check between various numerical values."
   ]
  },
  {
   "cell_type": "markdown",
   "id": "43cd1875-6c5e-48e9-9b94-e20862c6c26f",
   "metadata": {},
   "source": [
    "## Limitations"
   ]
  },
  {
   "cell_type": "markdown",
   "id": "17a26cd9-7e23-4c6b-82f1-994e1d877ee9",
   "metadata": {},
   "source": [
    "Since 2021, the emissions are measured with a new test procedure (Worldwide harmonized Light vehicles Test Procedure WLTP), compared to the New European Driving Cycle (NEDC) procedure used until 2020. The WLTP aims to reflect better real driving conditions and WLTP values are systematically higher than NEDC values. This change leads to a break in time series between 2020 and 2021. $^5$\n",
    "\n",
    "\n",
    "The $CO_2$ emission data lacks information for the year 2023, and significant fluctuations occurred from 2019 to 2021, primarily attributed to the COVID-19 situation."
   ]
  },
  {
   "cell_type": "markdown",
   "id": "91a130e9-d34d-449c-8df9-b824fd89d17f",
   "metadata": {},
   "source": [
    "## Future work"
   ]
  },
  {
   "cell_type": "markdown",
   "id": "492e6728-aa78-4bea-9d78-ddb4419fb8de",
   "metadata": {},
   "source": [
    "To gain a comprehensive understanding of how one type of motor impacts greenhouse gas (GHG) emissions compared to another, it is advisable to incorporate additional data sources. For instance, analyzing data on the age of newly registered cars could provide valuable insights into how emissions evolve over time.\n",
    "\n",
    "Furthermore, it is recommended to explore data sources that provide in-depth details about cars, like open data from factories sharing their greenhouse gas (GHG) emissions during production. The impact on the environment goes beyond just using the car, and it's crucial to look at the whole life cycle. For example, if making electric cars produces a lot of GHG emissions, that's an important factor to think of. So, including data from the manufacturing phase is really important to get a complete picture of how different types of motors affect the environment.\n",
    "\n",
    "Understanding how GHG emissions change as vehicles age can inform policy decisions. For example, it can help policymakers assess the effectiveness of emissions standards and regulations over the lifespan of a vehicle. A comparative analysis allows for understanding tradeoffs between different motor types. If one type of vehicle has higher manufacturing emissions but significantly lower operational emissions, it's important to weigh these factors when considering the overall environmental impact."
   ]
  },
  {
   "cell_type": "markdown",
   "id": "30799f57-d9e6-4cfb-8a7c-21ff7949b45c",
   "metadata": {},
   "source": [
    "# Refernces and Footnotes\n",
    "\n",
    "**[1]**: Only $CO_2$ is considered among all the other greenhouse gases in this report.\n",
    "<br/>\n",
    "**[2]**: EC, 2021, Communication from the Commission to the European Parliament, the Council, the European Economic and Social Committee and the Committee of the Regions ‘Fit for 55’: delivering the EU’s 2030 Climate Target on the way to climate neutrality, COM(2021) 550 final\n",
    "<br/>\n",
    "**[3]**: TERM: Transport and environment report 2022\n",
    "<br/>\n",
    "**[4]**: Gavurova, Beata et al. “Greenhouse Gas Emissions and Health in the Countries of the European Union.” Frontiers in public health vol. 9 756652. 10 Dec. 2021, doi:10.3389/fpubh.2021.756652\n",
    "<br/>\n",
    "**[5]**: https://ec.europa.eu/eurostat/cache/metadata/en/sdg_12_30_esmsip2.htm\n"
   ]
  }
 ],
 "metadata": {
  "kernelspec": {
   "display_name": "Python 3 (ipykernel)",
   "language": "python",
   "name": "python3"
  },
  "language_info": {
   "codemirror_mode": {
    "name": "ipython",
    "version": 3
   },
   "file_extension": ".py",
   "mimetype": "text/x-python",
   "name": "python",
   "nbconvert_exporter": "python",
   "pygments_lexer": "ipython3",
   "version": "3.12.1"
  }
 },
 "nbformat": 4,
 "nbformat_minor": 5
}
